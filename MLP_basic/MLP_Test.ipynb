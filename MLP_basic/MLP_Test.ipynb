{
 "cells": [
  {
   "cell_type": "markdown",
   "id": "8bb2d301",
   "metadata": {},
   "source": [
    "### MLP Test"
   ]
  },
  {
   "cell_type": "code",
   "execution_count": 1,
   "id": "82397ecf",
   "metadata": {},
   "outputs": [],
   "source": [
    "import torch \n",
    "import torch.nn as nn \n",
    "import torch.optim as optim \n",
    "from torchvision import datasets \n",
    "from torchvision import transforms"
   ]
  },
  {
   "cell_type": "code",
   "execution_count": 2,
   "id": "835771ce",
   "metadata": {},
   "outputs": [],
   "source": [
    "train_datasets = datasets.MNIST(root='./mnist/data',train=True,transform=transforms.ToTensor(),download=True)\n",
    "val_datasets = datasets.MNIST(root='./mnist/data',train=False,transform=transforms.ToTensor(),download=True)"
   ]
  },
  {
   "cell_type": "code",
   "execution_count": 3,
   "id": "c06bdcd5",
   "metadata": {},
   "outputs": [
    {
     "data": {
      "text/plain": [
       "(60000, 10000)"
      ]
     },
     "execution_count": 3,
     "metadata": {},
     "output_type": "execute_result"
    }
   ],
   "source": [
    "len(train_datasets),len(val_datasets)"
   ]
  },
  {
   "cell_type": "code",
   "execution_count": 4,
   "id": "3694f6a0",
   "metadata": {},
   "outputs": [],
   "source": [
    "from MyMLP import *\n",
    "from MyMLPTrainer import *"
   ]
  },
  {
   "cell_type": "code",
   "execution_count": 5,
   "id": "c6dbbdb7",
   "metadata": {},
   "outputs": [],
   "source": [
    "model = MLP(28*28,512,10).to('cuda:0')"
   ]
  },
  {
   "cell_type": "code",
   "execution_count": 6,
   "id": "3649f455",
   "metadata": {},
   "outputs": [],
   "source": [
    "optimizer = optim.Adam\n",
    "\n",
    "\n",
    "trainer = Mytrainer(train_dataset=train_datasets,\n",
    "                    val_dataset=val_datasets,\n",
    "                    model=model,\n",
    "                    num_classes=10,\n",
    "                    epochs=10,\n",
    "                    batch_size=100,\n",
    "                    lr=0.001,\n",
    "                    optimizer=optimizer)"
   ]
  },
  {
   "cell_type": "code",
   "execution_count": 7,
   "id": "b587d1a7",
   "metadata": {},
   "outputs": [
    {
     "name": "stdout",
     "output_type": "stream",
     "text": [
      "[train epoch 0], loss: 0.259, acc_num: 0.923: 100%|██████████| 600/600 [00:07<00:00, 77.20it/s]\n",
      "[train epoch 0], loss: 0.119, acc_num:  0.962: 100%|██████████| 100/100 [00:01<00:00, 97.23it/s]\n",
      "[train epoch 1], loss: 0.091, acc_num: 0.972: 100%|██████████| 600/600 [00:09<00:00, 65.01it/s]\n",
      "[train epoch 1], loss: 0.085, acc_num:  0.971: 100%|██████████| 100/100 [00:01<00:00, 87.28it/s]\n",
      "[train epoch 2], loss: 0.057, acc_num: 0.982: 100%|██████████| 600/600 [00:08<00:00, 72.00it/s]\n",
      "[train epoch 2], loss: 0.079, acc_num:  0.975: 100%|██████████| 100/100 [00:01<00:00, 86.08it/s]\n",
      "[train epoch 3], loss: 0.039, acc_num: 0.987: 100%|██████████| 600/600 [00:08<00:00, 71.08it/s]\n",
      "[train epoch 3], loss: 0.064, acc_num:  0.981: 100%|██████████| 100/100 [00:01<00:00, 89.87it/s]\n",
      "[train epoch 4], loss: 0.028, acc_num: 0.991: 100%|██████████| 600/600 [00:08<00:00, 70.24it/s]\n",
      "[train epoch 4], loss: 0.066, acc_num:  0.981: 100%|██████████| 100/100 [00:01<00:00, 88.56it/s]\n",
      "[train epoch 5], loss: 0.020, acc_num: 0.993: 100%|██████████| 600/600 [00:08<00:00, 69.35it/s]\n",
      "[train epoch 5], loss: 0.084, acc_num:  0.977: 100%|██████████| 100/100 [00:01<00:00, 95.67it/s]\n",
      "[train epoch 6], loss: 0.020, acc_num: 0.993: 100%|██████████| 600/600 [00:08<00:00, 68.32it/s]\n",
      "[train epoch 6], loss: 0.071, acc_num:  0.982: 100%|██████████| 100/100 [00:01<00:00, 83.50it/s]\n",
      "[train epoch 7], loss: 0.013, acc_num: 0.996: 100%|██████████| 600/600 [00:09<00:00, 63.97it/s]\n",
      "[train epoch 7], loss: 0.077, acc_num:  0.979: 100%|██████████| 100/100 [00:01<00:00, 86.14it/s]\n",
      "[train epoch 8], loss: 0.017, acc_num: 0.994: 100%|██████████| 600/600 [00:09<00:00, 63.46it/s]\n",
      "[train epoch 8], loss: 0.087, acc_num:  0.978: 100%|██████████| 100/100 [00:01<00:00, 84.66it/s]\n",
      "[train epoch 9], loss: 0.015, acc_num: 0.994: 100%|██████████| 600/600 [00:09<00:00, 66.50it/s]\n",
      "[train epoch 9], loss: 0.084, acc_num:  0.980: 100%|██████████| 100/100 [00:01<00:00, 75.26it/s]\n"
     ]
    }
   ],
   "source": [
    "trainer.train()"
   ]
  },
  {
   "cell_type": "code",
   "execution_count": 8,
   "id": "c6e43bf1",
   "metadata": {},
   "outputs": [
    {
     "name": "stdout",
     "output_type": "stream",
     "text": [
      "accuracy: 0.980%\n"
     ]
    }
   ],
   "source": [
    "test_loader = torch.utils.data.DataLoader(dataset=val_datasets,batch_size=100,shuffle=True)\n",
    "with torch.no_grad():\n",
    "    correct , total = 0,0\n",
    "    for images, labels in test_loader:\n",
    "        images = images.reshape(-1,28*28).to('cuda:0')\n",
    "        output = model(images)\n",
    "        _,pred = torch.max(output.data,1)\n",
    "        total += labels.size(0)\n",
    "        correct += (pred == labels.to('cuda:0')).sum().item()\n",
    "\n",
    "    print(f'accuracy: {correct/total:.3f}%')"
   ]
  }
 ],
 "metadata": {
  "kernelspec": {
   "display_name": "transformers",
   "language": "python",
   "name": "python3"
  },
  "language_info": {
   "codemirror_mode": {
    "name": "ipython",
    "version": 3
   },
   "file_extension": ".py",
   "mimetype": "text/x-python",
   "name": "python",
   "nbconvert_exporter": "python",
   "pygments_lexer": "ipython3",
   "version": "3.9.21"
  }
 },
 "nbformat": 4,
 "nbformat_minor": 5
}
