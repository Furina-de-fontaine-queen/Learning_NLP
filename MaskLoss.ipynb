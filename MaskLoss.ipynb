{
 "cells": [
  {
   "cell_type": "code",
   "execution_count": 1,
   "id": "9edb0d23",
   "metadata": {},
   "outputs": [],
   "source": [
    "import torch \n",
    "import torch.nn as nn \n",
    "import torch.nn.functional as F "
   ]
  },
  {
   "cell_type": "code",
   "execution_count": 2,
   "id": "e240bec3",
   "metadata": {},
   "outputs": [],
   "source": [
    "### 假设最后Generator返回了[batchsize,seq_len,vocab_size]的张量\n",
    "logits = torch.randn(2,3,4)\n",
    "label = torch.randint(0,4,(2,3)) "
   ]
  },
  {
   "cell_type": "markdown",
   "id": "681c7f89",
   "metadata": {},
   "source": [
    "**交叉熵计算**"
   ]
  },
  {
   "cell_type": "markdown",
   "id": "215355d9",
   "metadata": {},
   "source": [
    "这里注意到如果是在当前语境下是vocab_size个类的分类问题，所以C=vocab_size"
   ]
  },
  {
   "cell_type": "code",
   "execution_count": 3,
   "id": "619a6185",
   "metadata": {},
   "outputs": [
    {
     "data": {
      "text/plain": [
       "'\\nIt is useful when training a classification problem with `C` classes.\\n    If provided, the optional argument :attr:`weight` should be a 1D `Tensor`\\n    assigning weight to each of the classes.\\n    This is particularly useful when you have an unbalanced training set.\\n\\n    The `input` is expected to contain the unnormalized logits for each class (which do `not` need\\n    to be positive or sum to 1, in general).\\n    `input` has to be a Tensor of size :math:`(C)` for unbatched input,\\n    :math:`(minibatch, C)` or :math:`(minibatch, C, d_1, d_2, ..., d_K)` with :math:`K \\\\geq 1` for the\\n    `K`-dimensional case. The last being useful for higher dimension inputs, such\\n    as computing cross entropy loss per-pixel for 2D images.\\n'"
      ]
     },
     "execution_count": 3,
     "metadata": {},
     "output_type": "execute_result"
    }
   ],
   "source": [
    "nn.CrossEntropyLoss\n",
    "r'''\n",
    "It is useful when training a classification problem with `C` classes.\n",
    "    If provided, the optional argument :attr:`weight` should be a 1D `Tensor`\n",
    "    assigning weight to each of the classes.\n",
    "    This is particularly useful when you have an unbalanced training set.\n",
    "\n",
    "    The `input` is expected to contain the unnormalized logits for each class (which do `not` need\n",
    "    to be positive or sum to 1, in general).\n",
    "    `input` has to be a Tensor of size :math:`(C)` for unbatched input,\n",
    "    :math:`(minibatch, C)` or :math:`(minibatch, C, d_1, d_2, ..., d_K)` with :math:`K \\geq 1` for the\n",
    "    `K`-dimensional case. The last being useful for higher dimension inputs, such\n",
    "    as computing cross entropy loss per-pixel for 2D images.\n",
    "'''"
   ]
  },
  {
   "cell_type": "code",
   "execution_count": 6,
   "id": "6d972114",
   "metadata": {},
   "outputs": [],
   "source": [
    "logits = logits.transpose(1,2)"
   ]
  },
  {
   "cell_type": "code",
   "execution_count": null,
   "id": "b894e669",
   "metadata": {},
   "outputs": [
    {
     "data": {
      "text/plain": [
       "tensor(1.1688)"
      ]
     },
     "execution_count": 7,
     "metadata": {},
     "output_type": "execute_result"
    }
   ],
   "source": [
    "loss_fn_mean = nn.CrossEntropyLoss()\n",
    "loss_fn_mean(logits,label)"
   ]
  },
  {
   "cell_type": "markdown",
   "id": "0878d1b0",
   "metadata": {},
   "source": [
    "如果不加入reduction，就会返回每个元素的交叉熵"
   ]
  },
  {
   "cell_type": "code",
   "execution_count": 8,
   "id": "036f3671",
   "metadata": {},
   "outputs": [
    {
     "data": {
      "text/plain": [
       "tensor([[0.7650, 0.7929, 0.9647],\n",
       "        [1.1548, 1.6785, 1.6566]])"
      ]
     },
     "execution_count": 8,
     "metadata": {},
     "output_type": "execute_result"
    }
   ],
   "source": [
    "loss_fn_none = nn.CrossEntropyLoss(reduction='none')\n",
    "loss_fn_none(logits,label)"
   ]
  },
  {
   "cell_type": "markdown",
   "id": "d9e77602",
   "metadata": {},
   "source": [
    "实际中，我们需要考虑是否为有效值还是pad的结果,所以会刻意记录每个序列有效长度"
   ]
  },
  {
   "cell_type": "code",
   "execution_count": null,
   "id": "03971066",
   "metadata": {},
   "outputs": [],
   "source": [
    "tgt_len = torch.Tensor([2,3]).to(torch.int32)  # 这里假设第一个序列的有效长度为2，第二个序列的有效长度为3"
   ]
  },
  {
   "cell_type": "markdown",
   "id": "7f11cac2",
   "metadata": {},
   "source": [
    "**法一:** 制作mask矩阵"
   ]
  },
  {
   "cell_type": "code",
   "execution_count": 12,
   "id": "b9995d58",
   "metadata": {},
   "outputs": [
    {
     "data": {
      "text/plain": [
       "tensor([[1., 1., 0.],\n",
       "        [1., 1., 1.]])"
      ]
     },
     "execution_count": 12,
     "metadata": {},
     "output_type": "execute_result"
    }
   ],
   "source": [
    "mask = torch.cat([torch.unsqueeze(F.pad(torch.ones(L) ,(0,max(tgt_len)-L)),0) for L in tgt_len])\n",
    "mask"
   ]
  },
  {
   "cell_type": "code",
   "execution_count": 13,
   "id": "eda9a63c",
   "metadata": {},
   "outputs": [
    {
     "data": {
      "text/plain": [
       "tensor([[0.7650, 0.7929, 0.0000],\n",
       "        [1.1548, 1.6785, 1.6566]])"
      ]
     },
     "execution_count": 13,
     "metadata": {},
     "output_type": "execute_result"
    }
   ],
   "source": [
    "loss_fn_none(logits,label) * mask"
   ]
  },
  {
   "cell_type": "markdown",
   "id": "42c8d1f1",
   "metadata": {},
   "source": [
    "**法二** 使用类参数\n",
    "\n",
    "在`nn.CrossEntropyLoss`中可以设置忽略编号，默认为-100"
   ]
  },
  {
   "cell_type": "code",
   "execution_count": 16,
   "id": "bf5a286a",
   "metadata": {},
   "outputs": [
    {
     "data": {
      "text/plain": [
       "tensor([[   1,    2, -100],\n",
       "        [   1,    2,    0]])"
      ]
     },
     "execution_count": 16,
     "metadata": {},
     "output_type": "execute_result"
    }
   ],
   "source": [
    "label[0,2] = -100 \n",
    "label\n",
    "    "
   ]
  },
  {
   "cell_type": "code",
   "execution_count": 17,
   "id": "a1857ae0",
   "metadata": {},
   "outputs": [
    {
     "data": {
      "text/plain": [
       "tensor([[0.7650, 0.7929, 0.0000],\n",
       "        [1.1548, 1.6785, 1.6566]])"
      ]
     },
     "execution_count": 17,
     "metadata": {},
     "output_type": "execute_result"
    }
   ],
   "source": [
    "loss_fn_none(logits,label)"
   ]
  },
  {
   "cell_type": "code",
   "execution_count": null,
   "id": "d92a3af2",
   "metadata": {},
   "outputs": [],
   "source": []
  }
 ],
 "metadata": {
  "kernelspec": {
   "display_name": "transformers",
   "language": "python",
   "name": "python3"
  },
  "language_info": {
   "codemirror_mode": {
    "name": "ipython",
    "version": 3
   },
   "file_extension": ".py",
   "mimetype": "text/x-python",
   "name": "python",
   "nbconvert_exporter": "python",
   "pygments_lexer": "ipython3",
   "version": "3.9.21"
  }
 },
 "nbformat": 4,
 "nbformat_minor": 5
}
